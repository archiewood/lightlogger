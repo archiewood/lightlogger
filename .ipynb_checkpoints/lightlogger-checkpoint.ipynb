{
 "cells": [
  {
   "cell_type": "code",
   "execution_count": 90,
   "metadata": {},
   "outputs": [],
   "source": [
    "# CamJam EduKit 2 - Sensors\n",
    "# Worksheet 4 - Light\n",
    "\n",
    "# Import Libraries\n",
    "import time\n",
    "import RPi.GPIO as GPIO\n",
    "import datetime\n",
    "import csv"
   ]
  },
  {
   "cell_type": "code",
   "execution_count": 141,
   "metadata": {},
   "outputs": [],
   "source": [
    "# Set the GPIO Mode and set the pin to use for the\n",
    "GPIO.setmode(GPIO.BCM)\n",
    "GPIO.setwarnings(False)\n",
    "\n",
    "# A variable with the LDR reading pin number\n",
    "pinldr = 27\n",
    "\n",
    "# a notification variable that resets every day\n",
    "sent_notification_today=0\n",
    "\n",
    "\n",
    "def readldr():\n",
    "    ldrcount = 0  # Sets the count to 0\n",
    "    GPIO.setup(pinldr, GPIO.OUT)\n",
    "    GPIO.output(pinldr, GPIO.LOW)\n",
    "    time.sleep(0.1)  # Drains all charge from the capacitor\n",
    "\n",
    "    GPIO.setup(pinldr, GPIO.IN)  # Sets the pin to be input\n",
    "    # While the input pin reads 'off' or Low, count\n",
    "    while (GPIO.input(pinldr) == GPIO.LOW):\n",
    "        ldrcount += 1  # Add one to the counter\n",
    "    \n",
    "    entry = [datetime.datetime.now(),1000/ldrcount]\n",
    "    \n",
    "    if sent_\n",
    "    \n",
    "    return entry"
   ]
  },
  {
   "cell_type": "code",
   "execution_count": 111,
   "metadata": {},
   "outputs": [
    {
     "name": "stdout",
     "output_type": "stream",
     "text": [
      "[datetime.datetime(2020, 4, 11, 17, 50, 23, 623746), 7.8125]\n"
     ]
    }
   ],
   "source": [
    "#entry = [datetime.datetime.now(),1000/readldr()]\n",
    "\n",
    "#print(entry)"
   ]
  },
  {
   "cell_type": "code",
   "execution_count": 149,
   "metadata": {},
   "outputs": [],
   "source": [
    "file = open('lightlog.csv', 'a')\n",
    "\n",
    "\n",
    "with file:\n",
    "    writer = csv.writer(file)\n",
    "    \n",
    "    writer.writerow(readldr())\n",
    "    "
   ]
  }
 ],
 "metadata": {
  "kernelspec": {
   "display_name": "Python 3",
   "language": "python",
   "name": "python3-copy"
  },
  "language_info": {
   "codemirror_mode": {
    "name": "ipython",
    "version": 3
   },
   "file_extension": ".py",
   "mimetype": "text/x-python",
   "name": "python",
   "nbconvert_exporter": "python",
   "pygments_lexer": "ipython3",
   "version": "3.7.3"
  }
 },
 "nbformat": 4,
 "nbformat_minor": 2
}
